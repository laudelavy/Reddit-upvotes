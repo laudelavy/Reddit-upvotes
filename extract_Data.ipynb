{
 "cells": [
  {
   "cell_type": "markdown",
   "metadata": {},
   "source": [
    "This file contains to extract data from this [huge data set](https://www.kaggle.com/reddit/reddit-comments-may-2015)"
   ]
  },
  {
   "cell_type": "markdown",
   "metadata": {},
   "source": [
    "![Schema](images/Sqllite_structure.png)"
   ]
  },
  {
   "cell_type": "code",
   "execution_count": 1,
   "metadata": {},
   "outputs": [],
   "source": [
    "import sqlite3"
   ]
  },
  {
   "cell_type": "code",
   "execution_count": 2,
   "metadata": {},
   "outputs": [],
   "source": [
    "conn = sqlite3.connect('Data/database.sqlite')"
   ]
  },
  {
   "cell_type": "code",
   "execution_count": 3,
   "metadata": {},
   "outputs": [],
   "source": [
    "c = conn.cursor()"
   ]
  },
  {
   "cell_type": "code",
   "execution_count": 6,
   "metadata": {},
   "outputs": [],
   "source": [
    "query = 'SELECT COUNT(*) FROM May2015'"
   ]
  },
  {
   "cell_type": "code",
   "execution_count": 7,
   "metadata": {},
   "outputs": [
    {
     "data": {
      "text/plain": [
       "[(54504410,)]"
      ]
     },
     "execution_count": 7,
     "metadata": {},
     "output_type": "execute_result"
    }
   ],
   "source": [
    "c.execute(query)\n",
    "all_rows = c.fetchall()\n",
    "all_rows"
   ]
  },
  {
   "cell_type": "code",
   "execution_count": 8,
   "metadata": {},
   "outputs": [
    {
     "data": {
      "text/plain": [
       "[(1433116799,)]"
      ]
     },
     "execution_count": 8,
     "metadata": {},
     "output_type": "execute_result"
    }
   ],
   "source": [
    "query = 'SELECT MAX(created_utc) FROM May2015'\n",
    "c.execute(query)\n",
    "all_rows = c.fetchall()\n",
    "all_rows"
   ]
  },
  {
   "cell_type": "markdown",
   "metadata": {},
   "source": [
    " 1433116799 is `Sunday, May 31, 2015 11:59:59 PM`"
   ]
  },
  {
   "cell_type": "code",
   "execution_count": 9,
   "metadata": {},
   "outputs": [
    {
     "data": {
      "text/plain": [
       "[(1430438400,)]"
      ]
     },
     "execution_count": 9,
     "metadata": {},
     "output_type": "execute_result"
    }
   ],
   "source": [
    "query = 'SELECT MIN(created_utc) FROM May2015'\n",
    "c.execute(query)\n",
    "all_rows = c.fetchall()\n",
    "all_rows"
   ]
  },
  {
   "cell_type": "markdown",
   "metadata": {},
   "source": [
    "1430438400 is `Friday, May 1, 2015 12:00:00 AM`"
   ]
  },
  {
   "cell_type": "code",
   "execution_count": 13,
   "metadata": {},
   "outputs": [
    {
     "data": {
      "text/plain": [
       "1433721599"
      ]
     },
     "execution_count": 13,
     "metadata": {},
     "output_type": "execute_result"
    }
   ],
   "source": [
    "1433116799 + (7 * 24 * 60 * 60)"
   ]
  },
  {
   "cell_type": "markdown",
   "metadata": {},
   "source": [
    "Let's get data for one week i.e. from `1433116799` to `1433721599`, from the follwing sub-reddits."
   ]
  },
  {
   "cell_type": "code",
   "execution_count": 26,
   "metadata": {},
   "outputs": [],
   "source": [
    "subreddit_list = \"('leagueoflegends', 'funny', 'dota2', 'adviceanimals', 'movies',\\\n",
    "                   'politics', 'anime', 'gaming', 'news', 'youshouldknow', 'worldnews',\\\n",
    "                   'todayilearned', 'thewalkingdead', 'lifehacks', 'pokemon', 'frugal',\\\n",
    "                   'starwars', 'comicbooks', 'starcraft', 'guns', 'motorcycles',\\\n",
    "                   'imgoingtohellforthis', 'progresspics', 'music', 'facepalm',\\\n",
    "                   'tf2', 'sex', 'gameofthrones', 'startrek', 'community', 'truereddit',\\\n",
    "                   'conspiracy', 'skyrim', 'science', 'harrypotter', 'breakingbad',\\\n",
    "                   'doctorwho', 'minecraft', 'libertarian', 'food', 'jokes', 'himym',\\\n",
    "                   'explainlikeimfive', 'conservative', 'offbeat', 'mylittlepony',\\\n",
    "                   'space', 'drunk', 'askscience', 'circlejerk', 'askhistorians')\"\n",
    "subreddit_list = ' '.join(subreddit_list.split())"
   ]
  },
  {
   "cell_type": "code",
   "execution_count": 28,
   "metadata": {},
   "outputs": [
    {
     "data": {
      "text/plain": [
       "1433120399"
      ]
     },
     "execution_count": 28,
     "metadata": {},
     "output_type": "execute_result"
    }
   ],
   "source": [
    "1433116799 + 3600"
   ]
  },
  {
   "cell_type": "code",
   "execution_count": 29,
   "metadata": {},
   "outputs": [
    {
     "data": {
      "text/plain": [
       "[(3,)]"
      ]
     },
     "execution_count": 29,
     "metadata": {},
     "output_type": "execute_result"
    }
   ],
   "source": [
    "query = f'SELECT COUNT(*) FROM May2015 WHERE subreddit IN {subreddit_list}\\\n",
    "AND created_utc <= 1433120399'\n",
    "\n",
    "c.execute(query)\n",
    "all_rows = c.fetchall()\n",
    "all_rows"
   ]
  },
  {
   "cell_type": "code",
   "execution_count": 35,
   "metadata": {},
   "outputs": [
    {
     "data": {
      "text/plain": [
       "[(6195172,)]"
      ]
     },
     "execution_count": 35,
     "metadata": {},
     "output_type": "execute_result"
    }
   ],
   "source": [
    "query = f\"SELECT COUNT(*) FROM May2015 WHERE subreddit IN {subreddit_list}\"\n",
    "c.execute(query)\n",
    "all_rows = c.fetchall()\n",
    "all_rows"
   ]
  },
  {
   "cell_type": "code",
   "execution_count": 36,
   "metadata": {},
   "outputs": [],
   "source": [
    "import pandas as pd"
   ]
  },
  {
   "cell_type": "code",
   "execution_count": 38,
   "metadata": {},
   "outputs": [],
   "source": [
    "query = f'SELECT * FROM May2015 WHERE subreddit IN {subreddit_list}'\n",
    "df = pd.read_sql_query(query, conn)"
   ]
  },
  {
   "cell_type": "code",
   "execution_count": 39,
   "metadata": {},
   "outputs": [
    {
     "data": {
      "text/plain": [
       "(6195172, 22)"
      ]
     },
     "execution_count": 39,
     "metadata": {},
     "output_type": "execute_result"
    }
   ],
   "source": [
    "df.shape"
   ]
  },
  {
   "cell_type": "code",
   "execution_count": 41,
   "metadata": {},
   "outputs": [
    {
     "data": {
      "text/html": [
       "<div>\n",
       "<style scoped>\n",
       "    .dataframe tbody tr th:only-of-type {\n",
       "        vertical-align: middle;\n",
       "    }\n",
       "\n",
       "    .dataframe tbody tr th {\n",
       "        vertical-align: top;\n",
       "    }\n",
       "\n",
       "    .dataframe thead th {\n",
       "        text-align: right;\n",
       "    }\n",
       "</style>\n",
       "<table border=\"1\" class=\"dataframe\">\n",
       "  <thead>\n",
       "    <tr style=\"text-align: right;\">\n",
       "      <th></th>\n",
       "      <th>0</th>\n",
       "      <th>1</th>\n",
       "      <th>2</th>\n",
       "    </tr>\n",
       "  </thead>\n",
       "  <tbody>\n",
       "    <tr>\n",
       "      <th>created_utc</th>\n",
       "      <td>1430438402</td>\n",
       "      <td>1430438411</td>\n",
       "      <td>1430438412</td>\n",
       "    </tr>\n",
       "    <tr>\n",
       "      <th>ups</th>\n",
       "      <td>1</td>\n",
       "      <td>12</td>\n",
       "      <td>1</td>\n",
       "    </tr>\n",
       "    <tr>\n",
       "      <th>subreddit_id</th>\n",
       "      <td>t5_2qh22</td>\n",
       "      <td>t5_2qh22</td>\n",
       "      <td>t5_2qh22</td>\n",
       "    </tr>\n",
       "    <tr>\n",
       "      <th>link_id</th>\n",
       "      <td>t3_34gb0n</td>\n",
       "      <td>t3_34gfze</td>\n",
       "      <td>t3_34b6gv</td>\n",
       "    </tr>\n",
       "    <tr>\n",
       "      <th>name</th>\n",
       "      <td>t1_cqug92d</td>\n",
       "      <td>t1_cqug99n</td>\n",
       "      <td>t1_cqug9aa</td>\n",
       "    </tr>\n",
       "    <tr>\n",
       "      <th>score_hidden</th>\n",
       "      <td>0</td>\n",
       "      <td>0</td>\n",
       "      <td>0</td>\n",
       "    </tr>\n",
       "    <tr>\n",
       "      <th>author_flair_css_class</th>\n",
       "      <td>None</td>\n",
       "      <td>MAL</td>\n",
       "      <td>MAL</td>\n",
       "    </tr>\n",
       "    <tr>\n",
       "      <th>author_flair_text</th>\n",
       "      <td>None</td>\n",
       "      <td>http://myanimelist.net/animelist/Link_of_Hyrule</td>\n",
       "      <td>http://myanimelist.net/profile/TenWoTsuke</td>\n",
       "    </tr>\n",
       "    <tr>\n",
       "      <th>subreddit</th>\n",
       "      <td>anime</td>\n",
       "      <td>anime</td>\n",
       "      <td>anime</td>\n",
       "    </tr>\n",
       "    <tr>\n",
       "      <th>id</th>\n",
       "      <td>cqug92d</td>\n",
       "      <td>cqug99n</td>\n",
       "      <td>cqug9aa</td>\n",
       "    </tr>\n",
       "    <tr>\n",
       "      <th>removal_reason</th>\n",
       "      <td>None</td>\n",
       "      <td>None</td>\n",
       "      <td>None</td>\n",
       "    </tr>\n",
       "    <tr>\n",
       "      <th>gilded</th>\n",
       "      <td>0</td>\n",
       "      <td>0</td>\n",
       "      <td>0</td>\n",
       "    </tr>\n",
       "    <tr>\n",
       "      <th>downs</th>\n",
       "      <td>0</td>\n",
       "      <td>0</td>\n",
       "      <td>0</td>\n",
       "    </tr>\n",
       "    <tr>\n",
       "      <th>archived</th>\n",
       "      <td>0</td>\n",
       "      <td>0</td>\n",
       "      <td>0</td>\n",
       "    </tr>\n",
       "    <tr>\n",
       "      <th>author</th>\n",
       "      <td>anweisz</td>\n",
       "      <td>The_Sordid_Critic</td>\n",
       "      <td>WingsOfLight</td>\n",
       "    </tr>\n",
       "    <tr>\n",
       "      <th>score</th>\n",
       "      <td>1</td>\n",
       "      <td>12</td>\n",
       "      <td>1</td>\n",
       "    </tr>\n",
       "    <tr>\n",
       "      <th>retrieved_on</th>\n",
       "      <td>1432703080</td>\n",
       "      <td>1432703082</td>\n",
       "      <td>1432703083</td>\n",
       "    </tr>\n",
       "    <tr>\n",
       "      <th>body</th>\n",
       "      <td>I can see how that could easily go. People oft...</td>\n",
       "      <td>I could participate in this, but by that time,...</td>\n",
       "      <td>Restart your browser/clear your cache and it s...</td>\n",
       "    </tr>\n",
       "    <tr>\n",
       "      <th>distinguished</th>\n",
       "      <td>None</td>\n",
       "      <td>None</td>\n",
       "      <td>None</td>\n",
       "    </tr>\n",
       "    <tr>\n",
       "      <th>edited</th>\n",
       "      <td>0</td>\n",
       "      <td>0</td>\n",
       "      <td>0</td>\n",
       "    </tr>\n",
       "    <tr>\n",
       "      <th>controversiality</th>\n",
       "      <td>0</td>\n",
       "      <td>0</td>\n",
       "      <td>0</td>\n",
       "    </tr>\n",
       "    <tr>\n",
       "      <th>parent_id</th>\n",
       "      <td>t1_cqufskw</td>\n",
       "      <td>t3_34gfze</td>\n",
       "      <td>t1_cqug0f9</td>\n",
       "    </tr>\n",
       "  </tbody>\n",
       "</table>\n",
       "</div>"
      ],
      "text/plain": [
       "                                                                        0  \\\n",
       "created_utc                                                    1430438402   \n",
       "ups                                                                     1   \n",
       "subreddit_id                                                     t5_2qh22   \n",
       "link_id                                                         t3_34gb0n   \n",
       "name                                                           t1_cqug92d   \n",
       "score_hidden                                                            0   \n",
       "author_flair_css_class                                               None   \n",
       "author_flair_text                                                    None   \n",
       "subreddit                                                           anime   \n",
       "id                                                                cqug92d   \n",
       "removal_reason                                                       None   \n",
       "gilded                                                                  0   \n",
       "downs                                                                   0   \n",
       "archived                                                                0   \n",
       "author                                                            anweisz   \n",
       "score                                                                   1   \n",
       "retrieved_on                                                   1432703080   \n",
       "body                    I can see how that could easily go. People oft...   \n",
       "distinguished                                                        None   \n",
       "edited                                                                  0   \n",
       "controversiality                                                        0   \n",
       "parent_id                                                      t1_cqufskw   \n",
       "\n",
       "                                                                        1  \\\n",
       "created_utc                                                    1430438411   \n",
       "ups                                                                    12   \n",
       "subreddit_id                                                     t5_2qh22   \n",
       "link_id                                                         t3_34gfze   \n",
       "name                                                           t1_cqug99n   \n",
       "score_hidden                                                            0   \n",
       "author_flair_css_class                                                MAL   \n",
       "author_flair_text         http://myanimelist.net/animelist/Link_of_Hyrule   \n",
       "subreddit                                                           anime   \n",
       "id                                                                cqug99n   \n",
       "removal_reason                                                       None   \n",
       "gilded                                                                  0   \n",
       "downs                                                                   0   \n",
       "archived                                                                0   \n",
       "author                                                  The_Sordid_Critic   \n",
       "score                                                                  12   \n",
       "retrieved_on                                                   1432703082   \n",
       "body                    I could participate in this, but by that time,...   \n",
       "distinguished                                                        None   \n",
       "edited                                                                  0   \n",
       "controversiality                                                        0   \n",
       "parent_id                                                       t3_34gfze   \n",
       "\n",
       "                                                                        2  \n",
       "created_utc                                                    1430438412  \n",
       "ups                                                                     1  \n",
       "subreddit_id                                                     t5_2qh22  \n",
       "link_id                                                         t3_34b6gv  \n",
       "name                                                           t1_cqug9aa  \n",
       "score_hidden                                                            0  \n",
       "author_flair_css_class                                                MAL  \n",
       "author_flair_text               http://myanimelist.net/profile/TenWoTsuke  \n",
       "subreddit                                                           anime  \n",
       "id                                                                cqug9aa  \n",
       "removal_reason                                                       None  \n",
       "gilded                                                                  0  \n",
       "downs                                                                   0  \n",
       "archived                                                                0  \n",
       "author                                                       WingsOfLight  \n",
       "score                                                                   1  \n",
       "retrieved_on                                                   1432703083  \n",
       "body                    Restart your browser/clear your cache and it s...  \n",
       "distinguished                                                        None  \n",
       "edited                                                                  0  \n",
       "controversiality                                                        0  \n",
       "parent_id                                                      t1_cqug0f9  "
      ]
     },
     "execution_count": 41,
     "metadata": {},
     "output_type": "execute_result"
    }
   ],
   "source": [
    "df.head(3).T"
   ]
  },
  {
   "cell_type": "code",
   "execution_count": 42,
   "metadata": {},
   "outputs": [],
   "source": [
    "df.to_feather('Data/May2015_subset.fthr')"
   ]
  },
  {
   "cell_type": "code",
   "execution_count": 45,
   "metadata": {},
   "outputs": [
    {
     "data": {
      "text/plain": [
       "5533301288"
      ]
     },
     "execution_count": 45,
     "metadata": {},
     "output_type": "execute_result"
    }
   ],
   "source": [
    "df.memory_usage(deep=True).sum()"
   ]
  },
  {
   "cell_type": "code",
   "execution_count": 46,
   "metadata": {},
   "outputs": [
    {
     "data": {
      "text/plain": [
       "'5276.967323303223 MB'"
      ]
     },
     "execution_count": 46,
     "metadata": {},
     "output_type": "execute_result"
    }
   ],
   "source": [
    "f\"{5533301288 / 1024**2} MB\""
   ]
  }
 ],
 "metadata": {
  "kernelspec": {
   "display_name": "Python 3",
   "language": "python",
   "name": "python3"
  },
  "language_info": {
   "codemirror_mode": {
    "name": "ipython",
    "version": 3
   },
   "file_extension": ".py",
   "mimetype": "text/x-python",
   "name": "python",
   "nbconvert_exporter": "python",
   "pygments_lexer": "ipython3",
   "version": "3.6.5"
  }
 },
 "nbformat": 4,
 "nbformat_minor": 2
}
