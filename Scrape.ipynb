{
 "cells": [
  {
   "cell_type": "code",
   "execution_count": 2,
   "metadata": {
    "ExecuteTime": {
     "end_time": "2018-12-03T04:00:50.274301Z",
     "start_time": "2018-12-03T04:00:49.672872Z"
    }
   },
   "outputs": [],
   "source": [
    "import json\n",
    "import praw\n",
    "import pandas as pd"
   ]
  },
  {
   "cell_type": "code",
   "execution_count": 4,
   "metadata": {
    "ExecuteTime": {
     "end_time": "2018-12-02T03:46:00.340063Z",
     "start_time": "2018-12-02T03:46:00.329166Z"
    }
   },
   "outputs": [],
   "source": [
    "with open('/home/gokul/.api_keys/reddit.keys') as auth_file:\n",
    "    auth = json.loads(auth_file.read())"
   ]
  },
  {
   "cell_type": "code",
   "execution_count": 5,
   "metadata": {
    "ExecuteTime": {
     "end_time": "2018-12-02T03:46:01.825653Z",
     "start_time": "2018-12-02T03:46:01.597225Z"
    }
   },
   "outputs": [],
   "source": [
    "r = praw.Reddit(**auth)"
   ]
  },
  {
   "cell_type": "code",
   "execution_count": 6,
   "metadata": {
    "ExecuteTime": {
     "end_time": "2018-12-02T03:46:08.522090Z",
     "start_time": "2018-12-02T03:46:02.532640Z"
    }
   },
   "outputs": [],
   "source": [
    "df = pd.read_pickle('Data/working_sub.pkl')"
   ]
  },
  {
   "cell_type": "code",
   "execution_count": 7,
   "metadata": {
    "ExecuteTime": {
     "end_time": "2018-12-02T03:46:09.196292Z",
     "start_time": "2018-12-02T03:46:08.524610Z"
    }
   },
   "outputs": [],
   "source": [
    "link_ids = df.parent_id[df.parent_id.str.startswith('t3_')].unique()"
   ]
  },
  {
   "cell_type": "code",
   "execution_count": 8,
   "metadata": {
    "ExecuteTime": {
     "end_time": "2018-12-02T03:46:09.213269Z",
     "start_time": "2018-12-02T03:46:09.198568Z"
    }
   },
   "outputs": [],
   "source": [
    "del df"
   ]
  },
  {
   "cell_type": "code",
   "execution_count": 41,
   "metadata": {
    "ExecuteTime": {
     "end_time": "2018-12-02T03:56:01.007252Z",
     "start_time": "2018-12-02T03:56:00.993698Z"
    }
   },
   "outputs": [
    {
     "data": {
      "text/plain": [
       "45400"
      ]
     },
     "execution_count": 41,
     "metadata": {},
     "output_type": "execute_result"
    }
   ],
   "source": [
    "len(link_ids)"
   ]
  },
  {
   "cell_type": "code",
   "execution_count": 3,
   "metadata": {
    "ExecuteTime": {
     "end_time": "2018-12-03T04:00:54.488907Z",
     "start_time": "2018-12-03T04:00:54.478148Z"
    }
   },
   "outputs": [],
   "source": [
    "columns = ['sub_id', 'created_utc', 'distinguished', 'edited',\n",
    "           'locked', 'url', 'num_comments', 'over_18',\n",
    "           'score', 'selftext', 'title', 'upvote_ratio',\n",
    "           'downs', 'ups', 'is_original_content',\n",
    "           'num_crossposts', 'spoiler', 'view_count']"
   ]
  },
  {
   "cell_type": "code",
   "execution_count": 43,
   "metadata": {
    "ExecuteTime": {
     "end_time": "2018-12-02T03:56:02.703989Z",
     "start_time": "2018-12-02T03:56:02.687263Z"
    }
   },
   "outputs": [],
   "source": [
    "def get_data(ids):\n",
    "    df = pd.DataFrame(columns=columns)\n",
    "    for i, sub_id in enumerate(ids):\n",
    "        sm = r.submission(id=sub_id[3:])\n",
    "        df.loc[i, 'sub_id'] = sub_id\n",
    "        df.loc[i, 'created_utc'] = sm.created_utc\n",
    "        df.loc[i, 'distinguished'] = sm.distinguished\n",
    "        df.loc[i, 'edited'] = sm.edited\n",
    "        df.loc[i, 'locked'] = sm.locked\n",
    "        df.loc[i, 'url'] = sm.url\n",
    "        df.loc[i, 'num_comments'] = sm.num_comments\n",
    "        df.loc[i, 'over_18'] = sm.over_18\n",
    "        df.loc[i, 'score'] = sm.score\n",
    "        df.loc[i, 'selftext'] = sm.selftext\n",
    "        df.loc[i, 'title'] = sm.title\n",
    "        df.loc[i, 'upvote_ratio'] = sm.upvote_ratio\n",
    "        df.loc[i, 'downs'] = sm.downs\n",
    "        df.loc[i, 'ups'] = sm.ups\n",
    "        df.loc[i, 'is_original_content'] = sm.is_original_content\n",
    "        df.loc[i, 'num_crossposts'] = sm.num_crossposts\n",
    "        df.loc[i, 'spoiler'] = sm.spoiler\n",
    "        df.loc[i, 'view_count'] = sm.view_count\n",
    "    return df"
   ]
  },
  {
   "cell_type": "markdown",
   "metadata": {},
   "source": [
    "Scrapping in batches of thousands, so we have partial data if something fails."
   ]
  },
  {
   "cell_type": "code",
   "execution_count": 52,
   "metadata": {
    "ExecuteTime": {
     "end_time": "2018-12-02T18:07:26.766240Z",
     "start_time": "2018-12-02T04:21:53.871588Z"
    }
   },
   "outputs": [],
   "source": [
    "for i in list(range(0, 45400, 1000)):\n",
    "    ids = link_ids[i:i+1000]\n",
    "    df = get_data(ids)\n",
    "    df.to_pickle(f'Data/scrape/df_{i}.pkl')"
   ]
  },
  {
   "cell_type": "code",
   "execution_count": 4,
   "metadata": {
    "ExecuteTime": {
     "end_time": "2018-12-03T04:00:56.738498Z",
     "start_time": "2018-12-03T04:00:56.266235Z"
    }
   },
   "outputs": [],
   "source": [
    "df = pd.DataFrame(columns=columns)\n",
    "for i in list(range(0, 45400, 1000)):\n",
    "    df_t = pd.read_pickle(f'Data/scrape/df_{i}.pkl')\n",
    "    df = pd.concat([df, df_t])"
   ]
  },
  {
   "cell_type": "code",
   "execution_count": 5,
   "metadata": {
    "ExecuteTime": {
     "end_time": "2018-12-03T04:00:56.753743Z",
     "start_time": "2018-12-03T04:00:56.740751Z"
    }
   },
   "outputs": [
    {
     "data": {
      "text/plain": [
       "(45400, 18)"
      ]
     },
     "execution_count": 5,
     "metadata": {},
     "output_type": "execute_result"
    }
   ],
   "source": [
    "df.shape"
   ]
  },
  {
   "cell_type": "code",
   "execution_count": 6,
   "metadata": {
    "ExecuteTime": {
     "end_time": "2018-12-03T04:00:57.504217Z",
     "start_time": "2018-12-03T04:00:57.500902Z"
    }
   },
   "outputs": [],
   "source": [
    "df.reset_index(inplace=True, drop=True)"
   ]
  },
  {
   "cell_type": "code",
   "execution_count": 58,
   "metadata": {
    "ExecuteTime": {
     "end_time": "2018-12-02T18:14:57.244597Z",
     "start_time": "2018-12-02T18:14:57.161213Z"
    }
   },
   "outputs": [],
   "source": [
    "df.to_pickle('Data/scrape/df_final.pkl')"
   ]
  },
  {
   "cell_type": "code",
   "execution_count": null,
   "metadata": {},
   "outputs": [],
   "source": []
  }
 ],
 "metadata": {
  "kernelspec": {
   "display_name": "Python 3",
   "language": "python",
   "name": "python3"
  },
  "language_info": {
   "codemirror_mode": {
    "name": "ipython",
    "version": 3
   },
   "file_extension": ".py",
   "mimetype": "text/x-python",
   "name": "python",
   "nbconvert_exporter": "python",
   "pygments_lexer": "ipython3",
   "version": "3.6.5"
  }
 },
 "nbformat": 4,
 "nbformat_minor": 2
}
