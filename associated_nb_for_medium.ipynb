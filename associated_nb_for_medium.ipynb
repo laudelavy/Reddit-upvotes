{
 "cells": [
  {
   "cell_type": "markdown",
   "metadata": {},
   "source": [
    "## Setup"
   ]
  },
  {
   "cell_type": "markdown",
   "metadata": {},
   "source": [
    "Let's load all of the libraries we'll need."
   ]
  },
  {
   "cell_type": "code",
   "execution_count": 1,
   "metadata": {
    "ExecuteTime": {
     "end_time": "2018-12-07T22:32:54.476951Z",
     "start_time": "2018-12-07T22:32:54.467395Z"
    }
   },
   "outputs": [],
   "source": [
    "import pandas as pd\n",
    "import numpy as np\n",
    "import matplotlib.pyplot as plt\n",
    "import seaborn as sns\n",
    "\n",
    "from sklearn.metrics import mean_squared_error, r2_score, mean_absolute_error\n",
    "from sklearn.model_selection import train_test_split\n",
    "from sklearn.preprocessing import LabelBinarizer\n",
    "\n",
    "from sklearn.dummy import DummyRegressor\n",
    "from sklearn.linear_model import LinearRegression\n",
    "from sklearn.linear_model import LassoCV\n",
    "from sklearn.linear_model import RidgeCV\n",
    "from sklearn.linear_model import ElasticNetCV\n",
    "from sklearn.neighbors import KNeighborsRegressor\n",
    "from sklearn.tree import DecisionTreeRegressor\n",
    "from sklearn.ensemble import RandomForestRegressor\n",
    "from sklearn.ensemble import GradientBoostingRegressor\n",
    "import warnings\n",
    "warnings.filterwarnings('ignore')\n",
    "\n",
    "%matplotlib inline"
   ]
  },
  {
   "cell_type": "markdown",
   "metadata": {},
   "source": [
    "We also define some functions for interacting with the models."
   ]
  },
  {
   "cell_type": "code",
   "execution_count": 2,
   "metadata": {
    "ExecuteTime": {
     "end_time": "2018-12-07T22:32:58.876446Z",
     "start_time": "2018-12-07T22:32:58.872572Z"
    }
   },
   "outputs": [],
   "source": [
    "def model_diagnostics(model, pr=True):\n",
    "    \"\"\"\n",
    "    Returns and prints the R-squared, RMSE and the MAE\n",
    "    for a trained model\n",
    "    \"\"\"\n",
    "    y_predicted = model.predict(X_test)\n",
    "    r2 = r2_score(y_test, y_predicted)\n",
    "    mse = mean_squared_error(y_test, y_predicted)\n",
    "    mae = mean_absolute_error(y_test, y_predicted)\n",
    "    if pr:\n",
    "        print(f\"R-Sq: {r2:.4}\")\n",
    "        print(f\"RMSE: {np.sqrt(mse)}\")\n",
    "        print(f\"MAE: {mae}\")\n",
    "    \n",
    "    return [r2,np.sqrt(mse),mae]\n",
    "\n",
    "\n",
    "def plot_residuals(y_test, y_predicted):\n",
    "    \"\"\"\"\n",
    "    Plots the distribution for actual and\n",
    "    predicted values of the target variable.\n",
    "    Also plots the distribution for the residuals\n",
    "    \"\"\"\n",
    "    fig, (ax0, ax1) = plt.subplots(nrows=1, ncols=2, sharey=True)\n",
    "    sns.distplot(y_test, ax=ax0, kde = False)\n",
    "    ax0.set(xlabel='Test scores')\n",
    "    sns.distplot(y_predicted, ax=ax1, kde = False)\n",
    "    ax1.set(xlabel=\"Predicted scores\")\n",
    "    plt.show()\n",
    "    fig, ax2 = plt.subplots()\n",
    "    sns.distplot((y_test-y_predicted), ax = ax2,kde = False)\n",
    "    ax2.set(xlabel=\"Residuals\")\n",
    "    plt.show()\n",
    "    \n",
    "    \n",
    "def y_test_vs_y_predicted(y_test,y_predicted):\n",
    "    \"\"\"\n",
    "    Produces a scatter plot for the actual and\n",
    "    predicted values of the target variable\n",
    "    \"\"\"\n",
    "    fig, ax = plt.subplots()\n",
    "    ax.scatter(y_test, y_predicted)\n",
    "    ax.set_xlabel(\"Test Scores\")\n",
    "    ax.set_ylim([-75, 1400])\n",
    "    ax.set_ylabel(\"Predicted Scores\")\n",
    "    plt.show()\n",
    "    \n",
    "    \n",
    "def get_feature_importance(model):\n",
    "    \"\"\"\n",
    "    For fitted tree based models, get_feature_importance\n",
    "    can be used to get the feature importance as a tidy output\n",
    "    \"\"\"\n",
    "    X_non_text = pd.get_dummies(df[cat_cols])\n",
    "    features = numeric_cols + bool_cols + list(X_non_text.columns)\n",
    "    feature_importance = dict(zip(features, model.feature_importances_))\n",
    "    for name, importance in sorted(feature_importance.items(), key=lambda x: x[1], reverse=True):\n",
    "        print(f\"{name:<30}: {importance:>6.2%}\")\n",
    "    print(f\"\\nTotal importance: {sum(feature_importance.values()):.2%}\")\n",
    "    return feature_importance"
   ]
  },
  {
   "cell_type": "markdown",
   "metadata": {},
   "source": [
    "### Read in data"
   ]
  },
  {
   "cell_type": "code",
   "execution_count": 3,
   "metadata": {
    "ExecuteTime": {
     "end_time": "2018-12-07T21:03:01.745050Z",
     "start_time": "2018-12-07T21:03:01.734672Z"
    }
   },
   "outputs": [
    {
     "name": "stdout",
     "output_type": "stream",
     "text": [
      "CPU times: user 4.49 s, sys: 1.16 s, total: 5.65 s\n",
      "Wall time: 5.69 s\n"
     ]
    }
   ],
   "source": [
    "%%time\n",
    "df = pd.read_pickle('reddit_comments.pkl')"
   ]
  },
  {
   "cell_type": "markdown",
   "metadata": {},
   "source": [
    "**Handle missing values**\n",
    "The data has some missing values, which are handled either by imputation or by dropping observations. Missing values occurred in the following columns for the following reasons:\n",
    "- parent_score: some comments did not have a parent (imputed)\n",
    "- comment_tree_root_score and time_since_comment_tree_root: some comments were the root of a comment tree (imputed)\n",
    "- parent_cosine, parent_euc, title_cosine, title_euc: some comments lacked words that had glove word embeddings (dropped). In addition, some comments did not have a parent (parent_cosine, parent_title imputed)"
   ]
  },
  {
   "cell_type": "code",
   "execution_count": 4,
   "metadata": {},
   "outputs": [
    {
     "name": "stdout",
     "output_type": "stream",
     "text": [
      "CPU times: user 925 ms, sys: 226 ms, total: 1.15 s\n",
      "Wall time: 1.16 s\n"
     ]
    }
   ],
   "source": [
    "%%time\n",
    "df = df[~df.title_cosine.isna()] # drop where parent/title_cosine is NaN\n",
    "parent_scrore_impute = df.parent_score.mode()[0] # impute with mode of parent_score column\n",
    "comment_tree_root_score_impute = df.comment_tree_root_score.mode()[0] # impute with mode of comment_tree_root_score column\n",
    "time_since_comment_tree_root_impute = df.time_since_comment_tree_root.mode()[0] # impute with mode of time_since_comment_tree_root column\n",
    "parent_cosine_impute = 0\n",
    "parent_euc_impute = 0\n",
    "df.loc[df.parent_score.isna(), 'parent_score'] = parent_scrore_impute\n",
    "df.loc[df.comment_tree_root_score.isna(), 'comment_tree_root_score'] = comment_tree_root_score_impute\n",
    "df.loc[df.time_since_comment_tree_root.isna(), 'time_since_comment_tree_root'] = time_since_comment_tree_root_impute\n",
    "df.loc[df.parent_cosine.isna(), 'parent_cosine'] = parent_cosine_impute\n",
    "df.loc[df.parent_euc.isna(), 'parent_euc'] = parent_euc_impute"
   ]
  },
  {
   "cell_type": "markdown",
   "metadata": {},
   "source": [
    "**Select variables**\n",
    "\n",
    "In the next step, we define which variables to use when training the model. We make a list for boolean variables, for variables with multiple categories and for numeric variables."
   ]
  },
  {
   "cell_type": "code",
   "execution_count": 5,
   "metadata": {},
   "outputs": [],
   "source": [
    "bool_cols = ['over_18', 'is_edited', 'is_quoted', 'is_selftext']\n",
    "cat_cols = ['subreddit', 'distinguished', 'is_flair', 'is_flair_css','hour_of_comment', 'weekday']\n",
    "\n",
    "numeric_cols = ['gilded', 'controversiality', 'upvote_ratio','time_since_link',\n",
    "                'depth', 'no_of_linked_sr', 'no_of_linked_urls', 'parent_score',\n",
    "                'comment_tree_root_score', 'time_since_comment_tree_root',\n",
    "                'subjectivity', 'senti_neg', 'senti_pos', 'senti_neu',\n",
    "                'senti_comp', 'no_quoted', 'time_since_parent', 'word_counts',\n",
    "                'no_of_past_comments', 'parent_cosine','parent_euc',\n",
    "                'title_cosine', 'title_euc', 'no_quoted','link_score']"
   ]
  },
  {
   "cell_type": "markdown",
   "metadata": {},
   "source": [
    "Using our list of variables, we can prepare the data for modeling. The step below uses scikit-learn's `LabelBinarizer` to make dummy variables out of the categorical columns then combines all variables."
   ]
  },
  {
   "cell_type": "code",
   "execution_count": 6,
   "metadata": {
    "ExecuteTime": {
     "end_time": "2018-12-07T15:53:28.959235Z",
     "start_time": "2018-12-07T15:53:28.953849Z"
    }
   },
   "outputs": [],
   "source": [
    "lb = LabelBinarizer()\n",
    "cat = [lb.fit_transform(df[col]) for col in cat_cols]\n",
    "bol = [df[col].astype('int') for col in bool_cols]\n",
    "t = df.loc[:, numeric_cols].values\n",
    "final = [t] + bol + cat\n",
    "y = df.score.values\n",
    "x = np.column_stack(tuple(final))"
   ]
  },
  {
   "cell_type": "markdown",
   "metadata": {},
   "source": [
    "We split the data into a training and test set using an 80–20 split."
   ]
  },
  {
   "cell_type": "code",
   "execution_count": 7,
   "metadata": {
    "ExecuteTime": {
     "end_time": "2018-12-07T15:53:39.893054Z",
     "start_time": "2018-12-07T15:53:39.192598Z"
    }
   },
   "outputs": [],
   "source": [
    "X_train, X_test, y_train, y_test = train_test_split(x, y, test_size=0.2, random_state=10)"
   ]
  },
  {
   "cell_type": "markdown",
   "metadata": {},
   "source": [
    "## Modeling"
   ]
  },
  {
   "cell_type": "markdown",
   "metadata": {},
   "source": [
    "In this section, we use scikit-learn to fit models on the Reddit data. We start with a baseline model, then try to improve results with Lasso, Ridge, and Elastic Net Regression. In addition, we try K-Nearest Neighbors, Decision Tree, Random Forest and Gradient Boosted Regression."
   ]
  },
  {
   "cell_type": "markdown",
   "metadata": {},
   "source": [
    "First, let's define a dictionary that will store the results of the model diagnostics."
   ]
  },
  {
   "cell_type": "code",
   "execution_count": 8,
   "metadata": {},
   "outputs": [],
   "source": [
    "model_performance_dict = dict()"
   ]
  },
  {
   "cell_type": "markdown",
   "metadata": {},
   "source": [
    "### Linear Regression Models"
   ]
  },
  {
   "cell_type": "markdown",
   "metadata": {},
   "source": [
    "**Baseline Model**\n",
    "\n",
    "We fit a simple model to establish a baseline. This model always predicts the mean number of upvotes."
   ]
  },
  {
   "cell_type": "code",
   "execution_count": 9,
   "metadata": {
    "ExecuteTime": {
     "end_time": "2018-12-07T15:53:39.897016Z",
     "start_time": "2018-12-07T15:53:39.894842Z"
    }
   },
   "outputs": [
    {
     "name": "stdout",
     "output_type": "stream",
     "text": [
      "R-Sq: -5.417e-08\n",
      "RMSE: 68.73602955302476\n",
      "MAE: 13.177054365169608\n",
      "CPU times: user 4.05 s, sys: 362 ms, total: 4.41 s\n",
      "Wall time: 4.4 s\n"
     ]
    }
   ],
   "source": [
    "%%time\n",
    "baseline = DummyRegressor(strategy='mean')\n",
    "baseline.fit(X_train,y_train)\n",
    "model_performance_dict[\"Baseline\"] = model_diagnostics(baseline)"
   ]
  },
  {
   "cell_type": "markdown",
   "metadata": {},
   "source": [
    "**Linear Regression**"
   ]
  },
  {
   "cell_type": "code",
   "execution_count": 10,
   "metadata": {
    "ExecuteTime": {
     "end_time": "2018-12-07T15:53:39.902968Z",
     "start_time": "2018-12-07T15:53:39.899996Z"
    }
   },
   "outputs": [
    {
     "name": "stdout",
     "output_type": "stream",
     "text": [
      "R-Sq: 0.06738\n",
      "RMSE: 66.3798087746185\n",
      "MAE: 13.803146726230315\n",
      "CPU times: user 11.5 s, sys: 1.24 s, total: 12.8 s\n",
      "Wall time: 8.38 s\n"
     ]
    }
   ],
   "source": [
    "%%time\n",
    "linear = LinearRegression()\n",
    "linear.fit(X_train,y_train)\n",
    "model_performance_dict[\"Linear Regression\"] = model_diagnostics(linear)"
   ]
  },
  {
   "cell_type": "markdown",
   "metadata": {},
   "source": [
    "**Lasso Regression**"
   ]
  },
  {
   "cell_type": "code",
   "execution_count": 11,
   "metadata": {
    "ExecuteTime": {
     "end_time": "2018-12-07T15:53:46.845858Z",
     "start_time": "2018-12-07T15:53:40.985318Z"
    }
   },
   "outputs": [
    {
     "name": "stdout",
     "output_type": "stream",
     "text": [
      "R-Sq: 0.0182\n",
      "RMSE: 68.10773517021772\n",
      "MAE: 13.51401710425848\n",
      "CPU times: user 1min 12s, sys: 18.4 s, total: 1min 30s\n",
      "Wall time: 1min 27s\n"
     ]
    }
   ],
   "source": [
    "%%time\n",
    "lasso = LassoCV(cv=30).fit(X_train, y_train)\n",
    "model_performance_dict[\"Lasso Regression\"] = model_diagnostics(lasso)"
   ]
  },
  {
   "cell_type": "markdown",
   "metadata": {},
   "source": [
    "**Ridge Regression**"
   ]
  },
  {
   "cell_type": "code",
   "execution_count": 12,
   "metadata": {
    "ExecuteTime": {
     "end_time": "2018-12-07T15:53:48.186632Z",
     "start_time": "2018-12-07T15:53:46.848469Z"
    }
   },
   "outputs": [
    {
     "name": "stdout",
     "output_type": "stream",
     "text": [
      "R-Sq: 0.0674\n",
      "RMSE: 66.37936915515536\n",
      "MAE: 13.802929075401869\n",
      "CPU times: user 5min 3s, sys: 36 s, total: 5min 39s\n",
      "Wall time: 5min 35s\n"
     ]
    }
   ],
   "source": [
    "%%time\n",
    "ridge = RidgeCV(cv=10).fit(X_train, y_train)\n",
    "model_performance_dict[\"Ridge Regression\"] = model_diagnostics(ridge)"
   ]
  },
  {
   "cell_type": "markdown",
   "metadata": {},
   "source": [
    "**Elastic Net Regression**"
   ]
  },
  {
   "cell_type": "code",
   "execution_count": 13,
   "metadata": {
    "ExecuteTime": {
     "end_time": "2018-12-07T15:53:48.197930Z",
     "start_time": "2018-12-07T15:53:48.190116Z"
    }
   },
   "outputs": [
    {
     "name": "stdout",
     "output_type": "stream",
     "text": [
      "R-Sq: 0.01819\n",
      "RMSE: 68.10790740344011\n",
      "MAE: 13.513380839643252\n",
      "CPU times: user 1min 10s, sys: 17.7 s, total: 1min 28s\n",
      "Wall time: 1min 24s\n"
     ]
    }
   ],
   "source": [
    "%%time\n",
    "elastic_net = ElasticNetCV(cv = 30).fit(X_train, y_train)\n",
    "model_performance_dict[\"Elastic Net Regression\"] = model_diagnostics(elastic_net)"
   ]
  },
  {
   "cell_type": "markdown",
   "metadata": {},
   "source": [
    "### Nonlinear Regression Models"
   ]
  },
  {
   "cell_type": "markdown",
   "metadata": {},
   "source": [
    "**K-Nearest Neighbor Regression**"
   ]
  },
  {
   "cell_type": "code",
   "execution_count": 14,
   "metadata": {
    "ExecuteTime": {
     "end_time": "2018-12-07T15:53:48.208571Z",
     "start_time": "2018-12-07T15:53:48.201530Z"
    }
   },
   "outputs": [
    {
     "name": "stdout",
     "output_type": "stream",
     "text": [
      "R-Sq: 0.00727\n",
      "RMSE: 68.48570585646834\n",
      "MAE: 11.87172376020713\n",
      "CPU times: user 1min 22s, sys: 686 ms, total: 1min 23s\n",
      "Wall time: 1min 23s\n"
     ]
    }
   ],
   "source": [
    "%%time\n",
    "knr = KNeighborsRegressor()\n",
    "knr.fit(X_train, y_train)\n",
    "model_performance_dict[\"KNN Regression\"] = model_diagnostics(knr)"
   ]
  },
  {
   "cell_type": "markdown",
   "metadata": {},
   "source": [
    "**Decision Tree Regression**"
   ]
  },
  {
   "cell_type": "code",
   "execution_count": 15,
   "metadata": {
    "ExecuteTime": {
     "end_time": "2018-12-07T15:53:58.761527Z",
     "start_time": "2018-12-07T15:53:58.569882Z"
    }
   },
   "outputs": [
    {
     "name": "stdout",
     "output_type": "stream",
     "text": [
      "R-Sq: 0.2319\n",
      "RMSE: 60.24043875345458\n",
      "MAE: 10.174068516033042\n",
      "CPU times: user 52.6 s, sys: 364 ms, total: 53 s\n",
      "Wall time: 53.1 s\n"
     ]
    }
   ],
   "source": [
    "%%time\n",
    "dt = DecisionTreeRegressor(min_samples_split=45, min_samples_leaf=45, random_state = 10)\n",
    "dt.fit(X_train, y_train)\n",
    "model_performance_dict[\"Decision Tree\"] = model_diagnostics(dt)"
   ]
  },
  {
   "cell_type": "markdown",
   "metadata": {},
   "source": [
    "**Random Forest Regression**"
   ]
  },
  {
   "cell_type": "code",
   "execution_count": 16,
   "metadata": {
    "ExecuteTime": {
     "end_time": "2018-12-07T15:54:05.993970Z",
     "start_time": "2018-12-07T15:54:03.406210Z"
    }
   },
   "outputs": [
    {
     "name": "stdout",
     "output_type": "stream",
     "text": [
      "R-Sq: 0.2832\n",
      "RMSE: 58.19380993846686\n",
      "MAE: 9.726769993712713\n",
      "CPU times: user 1h 20min 1s, sys: 26.1 s, total: 1h 20min 27s\n",
      "Wall time: 11min 48s\n"
     ]
    }
   ],
   "source": [
    "%%time\n",
    "rf = RandomForestRegressor(n_jobs=-1, n_estimators=70, min_samples_leaf=10, random_state = 10)\n",
    "rf.fit(X_train, y_train)\n",
    "model_performance_dict[\"Random Forest\"] = model_diagnostics(rf)"
   ]
  },
  {
   "cell_type": "markdown",
   "metadata": {},
   "source": [
    "**Gradient Boosting Regression**"
   ]
  },
  {
   "cell_type": "code",
   "execution_count": 17,
   "metadata": {
    "ExecuteTime": {
     "start_time": "2018-12-06T23:41:56.853Z"
    }
   },
   "outputs": [
    {
     "name": "stdout",
     "output_type": "stream",
     "text": [
      "R-Sq: 0.2599\n",
      "RMSE: 59.131316412518196\n",
      "MAE: 10.405170769017177\n",
      "CPU times: user 19min 4s, sys: 9.19 s, total: 19min 13s\n",
      "Wall time: 19min 24s\n"
     ]
    }
   ],
   "source": [
    "%%time\n",
    "gbr = GradientBoostingRegressor(n_estimators=70, max_depth=5)\n",
    "gbr.fit(X_train, y_train)\n",
    "model_performance_dict[\"Gradient Boosting Regression\"] = model_diagnostics(gbr)"
   ]
  },
  {
   "cell_type": "markdown",
   "metadata": {},
   "source": [
    "## Model comparison"
   ]
  },
  {
   "cell_type": "markdown",
   "metadata": {},
   "source": [
    "We compare the models based on three metrics: RMSE, MAE, and R<sup>2</sup>. To do so, we define the function below."
   ]
  },
  {
   "cell_type": "code",
   "execution_count": 18,
   "metadata": {},
   "outputs": [],
   "source": [
    "def model_comparison(model_performance_dict, sort_by = 'RMSE', metric = 'RMSE'):\n",
    "\n",
    "    Rsq_list = []\n",
    "    RMSE_list = []\n",
    "    MAE_list = []\n",
    "    for key in model_performance_dict.keys():\n",
    "        Rsq_list.append(model_performance_dict[key][0])\n",
    "        RMSE_list.append(model_performance_dict[key][1])\n",
    "        MAE_list.append(model_performance_dict[key][2])\n",
    "\n",
    "    props = pd.DataFrame([])\n",
    "\n",
    "    props[\"R-squared\"] = Rsq_list\n",
    "    props[\"RMSE\"] = RMSE_list\n",
    "    props[\"MAE\"] = MAE_list\n",
    "    props.index = model_performance_dict.keys()\n",
    "    props = props.sort_values(by = sort_by, ascending=False)\n",
    "\n",
    "    fig, ax = plt.subplots(figsize = (12,6))\n",
    "\n",
    "    ax.bar(props.index.sort_values(), props[metric], color=\"blue\")\n",
    "    xt = props.index\n",
    "    ax.set_xticklabels(xt)\n",
    "    plt.title(metric)\n",
    "    plt.xlabel('Model') \n",
    "    plt.xticks(rotation = 45)\n",
    "    plt.ylabel(metric) "
   ]
  },
  {
   "cell_type": "markdown",
   "metadata": {},
   "source": [
    "Let's use this function to compare the models based on each metric."
   ]
  },
  {
   "cell_type": "code",
   "execution_count": 19,
   "metadata": {
    "ExecuteTime": {
     "end_time": "2018-12-07T15:54:15.331445Z",
     "start_time": "2018-12-07T15:54:15.326703Z"
    }
   },
   "outputs": [
    {
     "data": {
      "image/png": "[encoded data removed]",
      "text/plain": [
       "<matplotlib.figure.Figure at 0x1a53197d68>"
      ]
     },
     "metadata": {},
     "output_type": "display_data"
    }
   ],
   "source": [
    "model_comparison(model_performance_dict, sort_by = 'R-squared', metric = 'R-squared')"
   ]
  },
  {
   "cell_type": "code",
   "execution_count": 20,
   "metadata": {
    "ExecuteTime": {
     "end_time": "2018-12-07T15:54:23.091003Z",
     "start_time": "2018-12-07T15:54:23.088076Z"
    }
   },
   "outputs": [
    {
     "data": {
      "image/png": "[encoded data removed]",
      "text/plain": [
       "<matplotlib.figure.Figure at 0x1a510df240>"
      ]
     },
     "metadata": {},
     "output_type": "display_data"
    }
   ],
   "source": [
    "model_comparison(model_performance_dict, sort_by = 'R-squared', metric = 'MAE')"
   ]
  },
  {
   "cell_type": "code",
   "execution_count": 21,
   "metadata": {
    "ExecuteTime": {
     "end_time": "2018-12-07T15:54:16.257684Z",
     "start_time": "2018-12-07T15:54:16.246900Z"
    }
   },
   "outputs": [
    {
     "data": {
      "image/png": "[encoded data removed]",
      "text/plain": [
       "<matplotlib.figure.Figure at 0x1a50d5e898>"
      ]
     },
     "metadata": {},
     "output_type": "display_data"
    }
   ],
   "source": [
    "model_comparison(model_performance_dict, sort_by = 'R-squared', metric = 'RMSE')"
   ]
  },
  {
   "cell_type": "code",
   "execution_count": 22,
   "metadata": {},
   "outputs": [
    {
     "data": {
      "image/png": "[encoded data removed]",
      "text/plain": [
       "<matplotlib.figure.Figure at 0x1a4fdcc710>"
      ]
     },
     "metadata": {},
     "output_type": "display_data"
    },
    {
     "data": {
      "image/png": "[encoded data removed]",
      "text/plain": [
       "<matplotlib.figure.Figure at 0x1a4f3e8e48>"
      ]
     },
     "metadata": {},
     "output_type": "display_data"
    }
   ],
   "source": [
    "y_predicted = rf.predict(X_test)\n",
    "plot_residuals(y_test,y_predicted)"
   ]
  },
  {
   "cell_type": "code",
   "execution_count": 23,
   "metadata": {},
   "outputs": [
    {
     "name": "stdout",
     "output_type": "stream",
     "text": [
      "link_score                    : 13.37%\n",
      "no_of_past_comments           : 12.41%\n",
      "time_since_link               :  9.93%\n",
      "time_since_parent             :  9.75%\n",
      "parent_score                  :  9.09%\n",
      "gilded                        :  8.63%\n",
      "title_euc                     :  4.25%\n",
      "word_counts                   :  3.63%\n",
      "title_cosine                  :  3.49%\n",
      "comment_tree_root_score       :  2.69%\n",
      "senti_neu                     :  2.52%\n",
      "controversiality              :  2.22%\n",
      "senti_comp                    :  2.21%\n",
      "upvote_ratio                  :  1.75%\n",
      "senti_neg                     :  1.71%\n",
      "time_since_comment_tree_root  :  1.70%\n",
      "depth                         :  1.65%\n",
      "senti_pos                     :  1.51%\n",
      "parent_cosine                 :  0.88%\n",
      "parent_euc                    :  0.85%\n",
      "subreddit_food                :  0.69%\n",
      "is_edited                     :  0.66%\n",
      "hour_of_comment               :  0.49%\n",
      "subjectivity                  :  0.42%\n",
      "no_of_linked_urls             :  0.31%\n",
      "is_flair_css                  :  0.24%\n",
      "is_selftext                   :  0.22%\n",
      "is_quoted                     :  0.13%\n",
      "no_quoted                     :  0.09%\n",
      "weekday                       :  0.05%\n",
      "distinguished_user            :  0.04%\n",
      "over_18                       :  0.04%\n",
      "distinguished_moderator       :  0.03%\n",
      "is_flair                      :  0.01%\n",
      "distinguished_admin           :  0.01%\n",
      "no_of_linked_sr               :  0.00%\n",
      "subreddit_worldnews           :  0.00%\n",
      "subreddit_movies              :  0.00%\n",
      "subreddit_science             :  0.00%\n",
      "subreddit_gaming              :  0.00%\n",
      "\n",
      "Total importance: 97.68%\n"
     ]
    }
   ],
   "source": [
    "rf_importances = get_feature_importance(rf)"
   ]
  }
 ],
 "metadata": {
  "kernelspec": {
   "display_name": "Python 3",
   "language": "python",
   "name": "python3"
  },
  "language_info": {
   "codemirror_mode": {
    "name": "ipython",
    "version": 3
   },
   "file_extension": ".py",
   "mimetype": "text/x-python",
   "name": "python",
   "nbconvert_exporter": "python",
   "pygments_lexer": "ipython3",
   "version": "3.6.4"
  },
  "toc": {
   "base_numbering": 1,
   "nav_menu": {},
   "number_sections": true,
   "sideBar": true,
   "skip_h1_title": false,
   "title_cell": "Table of Contents",
   "title_sidebar": "Contents",
   "toc_cell": false,
   "toc_position": {},
   "toc_section_display": true,
   "toc_window_display": true
  }
 },
 "nbformat": 4,
 "nbformat_minor": 2
}
